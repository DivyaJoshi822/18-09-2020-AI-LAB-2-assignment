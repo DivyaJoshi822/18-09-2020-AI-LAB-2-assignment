{
 "cells": [
  {
   "cell_type": "code",
   "execution_count": 1,
   "metadata": {},
   "outputs": [],
   "source": [
    "#import required libraries\n",
    "import nltk\n",
    "from nltk import sent_tokenize\n",
    "from nltk import word_tokenize"
   ]
  },
  {
   "cell_type": "code",
   "execution_count": 2,
   "metadata": {},
   "outputs": [
    {
     "name": "stdout",
     "output_type": "stream",
     "text": [
      "<class 'str'>\n",
      "\n",
      "\n",
      "My name is Divya Joshi . I am 21 years old. I have two siblings . I study in Maharaja Sayajirao University Of Baroda. I am doing Bachelors of Computer Applications. My brother is in twelfth class. My sister is in third class. My sister likes to sing. My brother likes to play esports . My favourite subject is Artificial Intelligence.\n",
      "334\n"
     ]
    }
   ],
   "source": [
    "#open the text file\n",
    "text_file = open(\"AIassignment.txt\")\n",
    "text = text_file.read()\n",
    "print(type(text))\n",
    "print(\"\\n\")\n",
    "print(text)\n",
    "print(len(text))"
   ]
  },
  {
   "cell_type": "code",
   "execution_count": 3,
   "metadata": {},
   "outputs": [
    {
     "name": "stdout",
     "output_type": "stream",
     "text": [
      "10\n",
      "['My name is Divya Joshi .', 'I am 21 years old.', 'I have two siblings .', 'I study in Maharaja Sayajirao University Of Baroda.', 'I am doing Bachelors of Computer Applications.', 'My brother is in twelfth class.', 'My sister is in third class.', 'My sister likes to sing.', 'My brother likes to play esports .', 'My favourite subject is Artificial Intelligence.']\n"
     ]
    }
   ],
   "source": [
    "# tokenize the text by sentences\n",
    "sentences = sent_tokenize(text)\n",
    "#how many sentences are there?\n",
    "print(len(sentences))\n",
    "#print the sentences\n",
    "print(sentences)"
   ]
  },
  {
   "cell_type": "code",
   "execution_count": 4,
   "metadata": {},
   "outputs": [
    {
     "name": "stdout",
     "output_type": "stream",
     "text": [
      "68\n",
      "['My', 'name', 'is', 'Divya', 'Joshi', '.', 'I', 'am', '21', 'years', 'old', '.', 'I', 'have', 'two', 'siblings', '.', 'I', 'study', 'in', 'Maharaja', 'Sayajirao', 'University', 'Of', 'Baroda', '.', 'I', 'am', 'doing', 'Bachelors', 'of', 'Computer', 'Applications', '.', 'My', 'brother', 'is', 'in', 'twelfth', 'class', '.', 'My', 'sister', 'is', 'in', 'third', 'class', '.', 'My', 'sister', 'likes', 'to', 'sing', '.', 'My', 'brother', 'likes', 'to', 'play', 'esports', '.', 'My', 'favourite', 'subject', 'is', 'Artificial', 'Intelligence', '.']\n"
     ]
    }
   ],
   "source": [
    "words =  word_tokenize(text)\n",
    "print(len(words))\n",
    "print(words)"
   ]
  },
  {
   "cell_type": "code",
   "execution_count": 5,
   "metadata": {},
   "outputs": [
    {
     "data": {
      "text/plain": [
       "[('.', 10),\n",
       " ('My', 6),\n",
       " ('is', 4),\n",
       " ('I', 4),\n",
       " ('in', 3),\n",
       " ('am', 2),\n",
       " ('brother', 2),\n",
       " ('class', 2),\n",
       " ('sister', 2),\n",
       " ('likes', 2)]"
      ]
     },
     "execution_count": 5,
     "metadata": {},
     "output_type": "execute_result"
    }
   ],
   "source": [
    "#import required libraries\n",
    "from nltk.probability import FreqDist\n",
    "#Find the frequency\n",
    "fdist = FreqDist(words)\n",
    "#print 10 most common words\n",
    "fdist.most_common(10)"
   ]
  },
  {
   "cell_type": "code",
   "execution_count": 6,
   "metadata": {},
   "outputs": [
    {
     "data": {
      "image/png": "[encoded data removed]",
      "text/plain": [
       "<Figure size 432x288 with 1 Axes>"
      ]
     },
     "metadata": {
      "needs_background": "light"
     },
     "output_type": "display_data"
    },
    {
     "data": {
      "text/plain": [
       "<matplotlib.axes._subplots.AxesSubplot at 0x1f99b8131f0>"
      ]
     },
     "execution_count": 6,
     "metadata": {},
     "output_type": "execute_result"
    }
   ],
   "source": [
    "import matplotlib.pyplot as ply\n",
    "fdist.plot(10)"
   ]
  },
  {
   "cell_type": "code",
   "execution_count": 7,
   "metadata": {},
   "outputs": [
    {
     "name": "stdout",
     "output_type": "stream",
     "text": [
      "['my', 'name', 'is', 'divya', 'joshi', 'i', 'am', 'years', 'old', 'i', 'have', 'two', 'siblings', 'i', 'study', 'in', 'maharaja', 'sayajirao', 'university', 'of', 'baroda', 'i', 'am', 'doing', 'bachelors', 'of', 'computer', 'applications', 'my', 'brother', 'is', 'in', 'twelfth', 'class', 'my', 'sister', 'is', 'in', 'third', 'class', 'my', 'sister', 'likes', 'to', 'sing', 'my', 'brother', 'likes', 'to', 'play', 'esports', 'my', 'favourite', 'subject', 'is', 'artificial', 'intelligence']\n",
      "\n",
      "\n",
      "57\n"
     ]
    }
   ],
   "source": [
    "words_no_punc =[]\n",
    "#removing punctuation marks\n",
    "for w in words:\n",
    "    if w.isalpha():\n",
    "        words_no_punc.append(w.lower())\n",
    "#print the words without punctuation marks\n",
    "print(words_no_punc)\n",
    "print(\"\\n\")\n",
    "#length\n",
    "print(len(words_no_punc))"
   ]
  },
  {
   "cell_type": "code",
   "execution_count": 8,
   "metadata": {},
   "outputs": [
    {
     "data": {
      "image/png": "[encoded data removed]",
      "text/plain": [
       "<Figure size 432x288 with 1 Axes>"
      ]
     },
     "metadata": {
      "needs_background": "light"
     },
     "output_type": "display_data"
    },
    {
     "data": {
      "text/plain": [
       "<matplotlib.axes._subplots.AxesSubplot at 0x1f999be0c70>"
      ]
     },
     "execution_count": 8,
     "metadata": {},
     "output_type": "execute_result"
    }
   ],
   "source": [
    "fdist = FreqDist(words_no_punc)\n",
    "fdist.most_common(10)\n",
    "#plot the most common words on graph\n",
    "fdist.plot(10)"
   ]
  },
  {
   "cell_type": "code",
   "execution_count": 9,
   "metadata": {},
   "outputs": [
    {
     "name": "stdout",
     "output_type": "stream",
     "text": [
      "['i', 'me', 'my', 'myself', 'we', 'our', 'ours', 'ourselves', 'you', \"you're\", \"you've\", \"you'll\", \"you'd\", 'your', 'yours', 'yourself', 'yourselves', 'he', 'him', 'his', 'himself', 'she', \"she's\", 'her', 'hers', 'herself', 'it', \"it's\", 'its', 'itself', 'they', 'them', 'their', 'theirs', 'themselves', 'what', 'which', 'who', 'whom', 'this', 'that', \"that'll\", 'these', 'those', 'am', 'is', 'are', 'was', 'were', 'be', 'been', 'being', 'have', 'has', 'had', 'having', 'do', 'does', 'did', 'doing', 'a', 'an', 'the', 'and', 'but', 'if', 'or', 'because', 'as', 'until', 'while', 'of', 'at', 'by', 'for', 'with', 'about', 'against', 'between', 'into', 'through', 'during', 'before', 'after', 'above', 'below', 'to', 'from', 'up', 'down', 'in', 'out', 'on', 'off', 'over', 'under', 'again', 'further', 'then', 'once', 'here', 'there', 'when', 'where', 'why', 'how', 'all', 'any', 'both', 'each', 'few', 'more', 'most', 'other', 'some', 'such', 'no', 'nor', 'not', 'only', 'own', 'same', 'so', 'than', 'too', 'very', 's', 't', 'can', 'will', 'just', 'don', \"don't\", 'should', \"should've\", 'now', 'd', 'll', 'm', 'o', 're', 've', 'y', 'ain', 'aren', \"aren't\", 'couldn', \"couldn't\", 'didn', \"didn't\", 'doesn', \"doesn't\", 'hadn', \"hadn't\", 'hasn', \"hasn't\", 'haven', \"haven't\", 'isn', \"isn't\", 'ma', 'mightn', \"mightn't\", 'mustn', \"mustn't\", 'needn', \"needn't\", 'shan', \"shan't\", 'shouldn', \"shouldn't\", 'wasn', \"wasn't\", 'weren', \"weren't\", 'won', \"won't\", 'wouldn', \"wouldn't\"]\n"
     ]
    }
   ],
   "source": [
    "from nltk.corpus import stopwords\n",
    "#list of stopwords\n",
    "stopwords = stopwords.words(\"english\")\n",
    "print(stopwords)"
   ]
  },
  {
   "cell_type": "code",
   "execution_count": 10,
   "metadata": {},
   "outputs": [
    {
     "name": "stdout",
     "output_type": "stream",
     "text": [
      "['name', 'divya', 'joshi', 'years', 'old', 'two', 'siblings', 'study', 'maharaja', 'sayajirao', 'university', 'baroda', 'bachelors', 'computer', 'applications', 'brother', 'twelfth', 'class', 'sister', 'third', 'class', 'sister', 'likes', 'sing', 'brother', 'likes', 'play', 'esports', 'favourite', 'subject', 'artificial', 'intelligence']\n",
      "\n",
      "\n",
      "32\n"
     ]
    }
   ],
   "source": [
    "# Empty list to store clean words\n",
    "clean_words =[]\n",
    "\n",
    "for w in words_no_punc:\n",
    "    if w not in stopwords:\n",
    "        clean_words.append(w)\n",
    "\n",
    "print(clean_words)\n",
    "print(\"\\n\")\n",
    "print(len(clean_words))"
   ]
  },
  {
   "cell_type": "code",
   "execution_count": 11,
   "metadata": {},
   "outputs": [
    {
     "data": {
      "image/png": "[encoded data removed]",
      "text/plain": [
       "<Figure size 432x288 with 1 Axes>"
      ]
     },
     "metadata": {
      "needs_background": "light"
     },
     "output_type": "display_data"
    },
    {
     "data": {
      "text/plain": [
       "<matplotlib.axes._subplots.AxesSubplot at 0x1f99bf280d0>"
      ]
     },
     "execution_count": 11,
     "metadata": {},
     "output_type": "execute_result"
    }
   ],
   "source": [
    "#Frequency distribution\n",
    "fdist = FreqDist(clean_words)\n",
    "fdist.most_common(10)\n",
    "\n",
    "fdist.plot(10)"
   ]
  },
  {
   "cell_type": "code",
   "execution_count": 13,
   "metadata": {},
   "outputs": [
    {
     "name": "stdout",
     "output_type": "stream",
     "text": [
      "studi\n",
      "studi\n",
      "studi\n",
      "studi\n"
     ]
    }
   ],
   "source": [
    "#stemming Example\n",
    "#import stemming Library\n",
    "from nltk.stem import PorterStemmer\n",
    "\n",
    "porter = PorterStemmer()\n",
    "\n",
    "# word-list for stemming\n",
    "word_list =[\"Study\",\"Studying\",\"Studies\",\"Studied\"]\n",
    "\n",
    "for w in word_list:\n",
    "    print(porter.stem(w))"
   ]
  },
  {
   "cell_type": "code",
   "execution_count": 14,
   "metadata": {},
   "outputs": [
    {
     "name": "stdout",
     "output_type": "stream",
     "text": [
      "studi\n",
      "leav\n",
      "decreas\n",
      "play\n"
     ]
    }
   ],
   "source": [
    "#stemming Example\n",
    "#import stemming Library\n",
    "from nltk.stem import PorterStemmer\n",
    "\n",
    "porter = PorterStemmer()\n",
    "\n",
    "# word-list for stemming\n",
    "word_list =[\"Studies\",\"leaves\",\"decreases\",\"plays\"]\n",
    "\n",
    "for w in word_list:\n",
    "    print(porter.stem(w))"
   ]
  },
  {
   "cell_type": "code",
   "execution_count": 15,
   "metadata": {},
   "outputs": [
    {
     "name": "stdout",
     "output_type": "stream",
     "text": [
      "studi\n",
      "studi\n",
      "decreas\n",
      "play\n"
     ]
    }
   ],
   "source": [
    "#stemming Example\n",
    "#import stemming Library\n",
    "from nltk.stem import SnowballStemmer\n",
    "\n",
    "snowball = SnowballStemmer(\"english\")\n",
    "\n",
    "# word-list for stemming\n",
    "word_list =[\"Study\",\"Studying\",\"decreases\",\"plays\"]\n",
    "\n",
    "for w in word_list:\n",
    "    print(snowball.stem(w))"
   ]
  },
  {
   "cell_type": "code",
   "execution_count": 16,
   "metadata": {},
   "outputs": [
    {
     "data": {
      "text/plain": [
       "('arabic',\n",
       " 'danish',\n",
       " 'dutch',\n",
       " 'english',\n",
       " 'finnish',\n",
       " 'french',\n",
       " 'german',\n",
       " 'hungarian',\n",
       " 'italian',\n",
       " 'norwegian',\n",
       " 'porter',\n",
       " 'portuguese',\n",
       " 'romanian',\n",
       " 'russian',\n",
       " 'spanish',\n",
       " 'swedish')"
      ]
     },
     "execution_count": 16,
     "metadata": {},
     "output_type": "execute_result"
    }
   ],
   "source": [
    "#stemming Example\n",
    "#import stemming Library\n",
    "from nltk.stem import SnowballStemmer\n",
    "\n",
    "#print languages supported\n",
    "\n",
    "SnowballStemmer.languages"
   ]
  },
  {
   "cell_type": "code",
   "execution_count": 17,
   "metadata": {},
   "outputs": [
    {
     "name": "stdout",
     "output_type": "stream",
     "text": [
      "studi\n"
     ]
    }
   ],
   "source": [
    "#stemming Example\n",
    "#import stemming Library\n",
    "from nltk.stem import PorterStemmer\n",
    "stemmer = PorterStemmer()\n",
    "print(stemmer.stem('studies'))"
   ]
  },
  {
   "cell_type": "code",
   "execution_count": 18,
   "metadata": {},
   "outputs": [
    {
     "name": "stdout",
     "output_type": "stream",
     "text": [
      "study\n"
     ]
    }
   ],
   "source": [
    "#stemming Example\n",
    "#import stemming Library\n",
    "from nltk.stem import WordNetLemmatizer\n",
    "lem = WordNetLemmatizer()\n",
    "print(lem.lemmatize('studies'))"
   ]
  },
  {
   "cell_type": "code",
   "execution_count": 19,
   "metadata": {},
   "outputs": [
    {
     "name": "stdout",
     "output_type": "stream",
     "text": [
      "study\n",
      "study\n",
      "study\n",
      "study\n"
     ]
    }
   ],
   "source": [
    "#stemming Example\n",
    "#import stemming Library\n",
    "from nltk.stem import WordNetLemmatizer\n",
    "lem = WordNetLemmatizer()\n",
    "word_list =['study','studying','studies','studied']\n",
    "for w in word_list:\n",
    "      print(lem.lemmatize(w,pos='v'))"
   ]
  },
  {
   "cell_type": "code",
   "execution_count": 20,
   "metadata": {},
   "outputs": [
    {
     "name": "stdout",
     "output_type": "stream",
     "text": [
      "study\n",
      "leaf\n",
      "decrease\n",
      "play\n"
     ]
    }
   ],
   "source": [
    "#stemming Example\n",
    "#import stemming Library\n",
    "from nltk.stem import WordNetLemmatizer\n",
    "lem = WordNetLemmatizer()\n",
    "word_list =['studies','leaves','decreases','plays']\n",
    "for w in word_list:\n",
    "      print(lem.lemmatize(w))"
   ]
  },
  {
   "cell_type": "code",
   "execution_count": 21,
   "metadata": {},
   "outputs": [
    {
     "name": "stdout",
     "output_type": "stream",
     "text": [
      "be\n",
      "be\n",
      "be\n",
      "be\n",
      "be\n"
     ]
    }
   ],
   "source": [
    "#stemming Example\n",
    "#import stemming Library\n",
    "from nltk.stem import WordNetLemmatizer\n",
    "lem = WordNetLemmatizer()\n",
    "\n",
    "word_list =[\"am\",\"is\",\"are\",\"was\",\"were\"]\n",
    "\n",
    "for w in word_list:\n",
    "      print(lem.lemmatize(w, pos =\"v\"))"
   ]
  },
  {
   "cell_type": "code",
   "execution_count": 22,
   "metadata": {},
   "outputs": [
    {
     "name": "stdout",
     "output_type": "stream",
     "text": [
      "study\n",
      "studying\n",
      "studying\n",
      "studying\n"
     ]
    }
   ],
   "source": [
    "#stemming Example\n",
    "#import stemming Library\n",
    "from nltk.stem import WordNetLemmatizer\n",
    "lem = WordNetLemmatizer()\n",
    "\n",
    "print(lem.lemmatize(\"studying\", pos =\"v\"))\n",
    "print(lem.lemmatize(\"studying\", pos =\"n\"))\n",
    "print(lem.lemmatize(\"studying\", pos =\"a\"))\n",
    "print(lem.lemmatize(\"studying\", pos =\"r\"))"
   ]
  },
  {
   "cell_type": "code",
   "execution_count": 23,
   "metadata": {},
   "outputs": [
    {
     "name": "stdout",
     "output_type": "stream",
     "text": [
      "[('Studying', 'VBG'), ('Study', 'NN')]\n"
     ]
    }
   ],
   "source": [
    "#Pos tagging\n",
    "tag = nltk.pos_tag([\"Studying\",\"Study\"])\n",
    "print(tag)"
   ]
  },
  {
   "cell_type": "code",
   "execution_count": 24,
   "metadata": {},
   "outputs": [
    {
     "name": "stdout",
     "output_type": "stream",
     "text": [
      "[('A', 'DT'), ('very', 'RB'), ('beutiful', 'JJ'), ('young', 'JJ'), ('lady', 'NN'), ('is', 'VBZ'), ('walking', 'VBG'), ('on', 'IN'), ('the', 'DT'), ('beach', 'NN')]\n"
     ]
    }
   ],
   "source": [
    "#Pos tagging Example\n",
    "sentence =\"A very beutiful young lady is walking on the beach\"\n",
    "\n",
    "#Tokenizing words\n",
    "token_words = word_tokenize(sentence)\n",
    "\n",
    "for words in token_words:\n",
    "    tagged_words = nltk.pos_tag(token_words)\n",
    "\n",
    "print(tagged_words)"
   ]
  }
 ],
 "metadata": {
  "kernelspec": {
   "display_name": "Python 3",
   "language": "python",
   "name": "python3"
  },
  "language_info": {
   "codemirror_mode": {
    "name": "ipython",
    "version": 3
   },
   "file_extension": ".py",
   "mimetype": "text/x-python",
   "name": "python",
   "nbconvert_exporter": "python",
   "pygments_lexer": "ipython3",
   "version": "3.8.3"
  }
 },
 "nbformat": 4,
 "nbformat_minor": 4
}
